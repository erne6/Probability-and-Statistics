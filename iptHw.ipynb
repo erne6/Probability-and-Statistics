{
  "cells": [
    {
      "cell_type": "code",
      "execution_count": 66,
      "metadata": {
        "id": "0c-ypvXuT1hl"
      },
      "outputs": [],
      "source": [
        "from sympy import symbols, integrate, Eq, solve, solveset, Rational, oo, Integral, simplify, factor, S, exp, pprint\n",
        "from sympy.abc import a\n"
      ]
    },
    {
      "cell_type": "code",
      "execution_count": 67,
      "metadata": {
        "colab": {
          "base_uri": "https://localhost:8080/"
        },
        "id": "OYi7b16ZT1hm",
        "outputId": "da47948e-1bf8-4955-b88a-d6255926ed86"
      },
      "outputs": [
        {
          "output_type": "stream",
          "name": "stdout",
          "text": [
            "\n",
            "c = 10/9\n",
            "----------------------------\n"
          ]
        }
      ],
      "source": [
        "x = symbols('x')\n",
        "y = symbols('y')\n",
        "c = symbols('c')\n",
        "t = symbols('t')\n",
        "u = symbols('u')\n",
        "v = symbols('v')\n",
        "\n",
        "#DOPLNIT rozsahy\n",
        "x_min =-1\n",
        "x_max = 0\n",
        "y_min = 1\n",
        "y_max = 2\n",
        "\n",
        "# DOPLNIT rovnici\n",
        "f1 = ((x**2)*(1+(y**2)))/c\n",
        "\n",
        "## dal uz se nic doplnovat nemusi\n",
        "s1 = integrate(f1, (x, x_min, x_max))\n",
        "s2 = integrate(s1, (y, y_min, y_max))\n",
        "\n",
        "eq = Eq(s2, 1)\n",
        "\n",
        "c_res = solve(eq, c)[0]\n",
        "\n",
        "print()\n",
        "print(\"c =\" , c_res)\n",
        "print(\"----------------------------\");"
      ]
    },
    {
      "cell_type": "code",
      "execution_count": 68,
      "metadata": {
        "id": "6BWzN1x3T1hn",
        "outputId": "3e83546d-4865-44ea-b3fa-e55a4cb90513",
        "colab": {
          "base_uri": "https://localhost:8080/"
        }
      },
      "outputs": [
        {
          "output_type": "stream",
          "name": "stdout",
          "text": [
            "** - mocnina\n",
            "Fx=0\n",
            "Fx= x**3 + 1\n",
            "Fx=1\n",
            "----------------------------\n",
            "Fy=0\n",
            "Fy= y**3/10 + 3*y/10 - 2/5\n",
            "Fy=1\n",
            "----------------------------\n",
            "rozsahu si nevsimejte jsou jen orientacni\n",
            "⟨0; 2⟩ × ⟨4; 6⟩ : F(x, y) = -2*x**3/5 + y**3*(x**3/10 + 1/10) + y*(3*x**3/10 + 3/10) - 2/5\n",
            "⟨0; 2⟩ × (6;∞) : F(x, y) = x**3 + 1\n",
            "(2;∞) × ⟨4; 6⟩ : F(x, y) = y**3/10 + 3*y/10 - 2/5\n",
            "(2;∞) × (6;∞) : F(x, y) = 1\n",
            "----------------------------\n",
            "-189/160\n",
            "0\n"
          ]
        }
      ],
      "source": [
        "\n",
        "f2 = f1.replace(c,c_res)\n",
        "\n",
        "fx  = integrate(f2, (y, y_min, y_max))\n",
        "fy  = integrate(f2, (x, x_min, x_max))\n",
        "\n",
        "ft = fx.replace(x, t);\n",
        "Fx = integrate(ft, (t, x_min, x))\n",
        "ft = fy.replace(y, t);\n",
        "Fy = integrate(ft, (t, y_min, y))\n",
        "\n",
        "print(\"** - mocnina\")\n",
        "print(\"Fx=0\")\n",
        "print(\"Fx=\", Fx)\n",
        "print(\"Fx=1\")\n",
        "print(\"----------------------------\");\n",
        "print(\"Fy=0\")\n",
        "print(\"Fy=\", Fy)\n",
        "print(\"Fy=1\")\n",
        "print(\"----------------------------\");\n",
        "\n",
        "fuv = f2.replace(x, u);\n",
        "fuv = fuv.replace(y, v);\n",
        "\n",
        "\n",
        "Fxy = integrate(fuv, (u, x_min, x))\n",
        "Fxy = integrate(Fxy, (v, y_min, y))\n",
        "print(\"rozsahu si nevsimejte jsou jen orientacni\")\n",
        "print(\"⟨0; 2⟩ × ⟨4; 6⟩ : F(x, y) =\", Fxy);\n",
        "print(\"⟨0; 2⟩ × (6;∞) : F(x, y) =\", Fx)\n",
        "print(\"(2;∞) × ⟨4; 6⟩ : F(x, y) =\", Fy)\n",
        "print(\"(2;∞) × (6;∞) : F(x, y) = 1\")\n",
        "print(\"----------------------------\");\n",
        "\n",
        "Ex = integrate(x*fx, (x, x_min, x_max))\n",
        "Ey = integrate(y*fy, (y, y_min, y_max))\n",
        "\n",
        "Exy = integrate(x*y*f2, (y, y_min, y_max))\n",
        "Exy = integrate(Exy , (x, x_min, x_max))\n",
        "\n",
        "print(Exy);\n",
        "\n",
        "print(Exy-Ex*Ey);\n"
      ]
    }
  ],
  "metadata": {
    "kernelspec": {
      "display_name": "Python 3.8.5 64-bit",
      "language": "python",
      "name": "python3"
    },
    "language_info": {
      "codemirror_mode": {
        "name": "ipython",
        "version": 3
      },
      "file_extension": ".py",
      "mimetype": "text/x-python",
      "name": "python",
      "nbconvert_exporter": "python",
      "pygments_lexer": "ipython3",
      "version": "3.8.5"
    },
    "orig_nbformat": 4,
    "vscode": {
      "interpreter": {
        "hash": "570feb405e2e27c949193ac68f46852414290d515b0ba6e5d90d076ed2284471"
      }
    },
    "colab": {
      "provenance": []
    }
  },
  "nbformat": 4,
  "nbformat_minor": 0
}